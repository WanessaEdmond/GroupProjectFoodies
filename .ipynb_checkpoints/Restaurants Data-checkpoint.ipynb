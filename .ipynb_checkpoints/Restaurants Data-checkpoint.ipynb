{
 "cells": [
  {
   "cell_type": "code",
   "execution_count": null,
   "id": "ce762803",
   "metadata": {},
   "outputs": [],
   "source": [
    "# Import Dependencies\n",
    "import pandas as pd\n",
    "from pathlib import Path"
   ]
  },
  {
   "cell_type": "code",
   "execution_count": null,
   "id": "4c78540d",
   "metadata": {},
   "outputs": [],
   "source": [
    "# Make a reference to the comic_books_expanded.csv file path\n",
    "csv_path = Path(\"Resources/comic_books_expanded.csv\")\n",
    "\n",
    "# Import the comic_books_expanded.csv file as a DataFrame\n",
    "books_df = pd.read_csv(csv_path, encoding=\"utf-8\")\n",
    "\n",
    "# Check the special characters imported correctly\n",
    "books_df.tail()"
   ]
  }
 ],
 "metadata": {
  "kernelspec": {
   "display_name": "Python 3 (ipykernel)",
   "language": "python",
   "name": "python3"
  },
  "language_info": {
   "codemirror_mode": {
    "name": "ipython",
    "version": 3
   },
   "file_extension": ".py",
   "mimetype": "text/x-python",
   "name": "python",
   "nbconvert_exporter": "python",
   "pygments_lexer": "ipython3",
   "version": "3.10.11"
  }
 },
 "nbformat": 4,
 "nbformat_minor": 5
}
